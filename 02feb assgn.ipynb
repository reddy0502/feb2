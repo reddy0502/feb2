{
 "cells": [
  {
   "cell_type": "markdown",
   "id": "32800427-fc39-489e-9e2a-017cd4ea3c5c",
   "metadata": {},
   "source": [
    "1ans:\n",
    "     Tuples are an ordered collection of elements, similar to lists in Python.\n",
    "     Tuples have a fixed length, which means that they cannot be resized once they are created. You cannot add or remove elements from a tuple.\n",
    "     Tuples can contain any type of object, including other tuples, lists, and dictionaries.\n",
    "     yes tuple is immutable."
   ]
  },
  {
   "cell_type": "markdown",
   "id": "f38dd5ac-ad3b-407c-8158-1ab3a2e1f10a",
   "metadata": {},
   "source": [
    "2ans:\n",
    "     The two tuple methods in Python are count and index\n",
    "     x=(1,2,3,4) x.count(1) 1 return the no of times a value occurs x.index(1) 0 return the index of the value.\n",
    "     Tuples are immutable i.e.,we cannot change their contents after they are created.The length of the tuples is also fixed."
   ]
  },
  {
   "cell_type": "code",
   "execution_count": null,
   "id": "ca6a40c2-2fa9-453d-be89-e2b2513e0e82",
   "metadata": {},
   "outputs": [],
   "source": [
    "3ans:\n",
    "    The set datatype in Python does not allow duplicate items."
   ]
  },
  {
   "cell_type": "code",
   "execution_count": 4,
   "id": "10ae409a-0cee-4ddc-a3d0-75ba206cd4a7",
   "metadata": {},
   "outputs": [
    {
     "data": {
      "text/plain": [
       "{1, 2, 3, 4}"
      ]
     },
     "execution_count": 4,
     "metadata": {},
     "output_type": "execute_result"
    }
   ],
   "source": [
    "List = [1, 1, 1, 2, 1, 3, 1, 4, 2, 1, 2, 2, 2, 3, 2, 4, 3, 1, 3, 2, 3, 3, 3, 4, 4, 1, 4, 2, 4, 3, 4, 4]\n",
    "set(List)"
   ]
  },
  {
   "cell_type": "markdown",
   "id": "7da10a79-82ce-4d8c-941c-7f4b85193171",
   "metadata": {},
   "source": [
    "ans4:\n",
    "    union() method: This method returns a new set that contains all the distinct elements from both the original set and the other set(s) provided as     argument(s), without modifying the original set\n",
    "    update() method: update method modifies the original set by adding all the distinct elements from the set(s) passed as an argument. "
   ]
  },
  {
   "cell_type": "code",
   "execution_count": 6,
   "id": "9ce488c3-8b1c-4872-a4c1-5c69d43cd04b",
   "metadata": {},
   "outputs": [
    {
     "data": {
      "text/plain": [
       "{1, 2, 3, 5, 6}"
      ]
     },
     "execution_count": 6,
     "metadata": {},
     "output_type": "execute_result"
    }
   ],
   "source": [
    "A={1,2,3}\n",
    "B={1,5,6}\n",
    "A.union(B)"
   ]
  },
  {
   "cell_type": "code",
   "execution_count": 7,
   "id": "466e5811-7df8-4797-ad2d-c5dacc5e124d",
   "metadata": {},
   "outputs": [
    {
     "data": {
      "text/plain": [
       "{1, 2, 3}"
      ]
     },
     "execution_count": 7,
     "metadata": {},
     "output_type": "execute_result"
    }
   ],
   "source": [
    "A"
   ]
  },
  {
   "cell_type": "code",
   "execution_count": 8,
   "id": "71e4a55f-6d74-4a0d-8ad0-dd7ed6b06a34",
   "metadata": {},
   "outputs": [
    {
     "data": {
      "text/plain": [
       "{1, 2, 3, 5, 6}"
      ]
     },
     "execution_count": 8,
     "metadata": {},
     "output_type": "execute_result"
    }
   ],
   "source": [
    "A.update(A.union(B))\n",
    "A"
   ]
  },
  {
   "cell_type": "markdown",
   "id": "d45fa120-96c6-4a21-8e6e-ec797a1f9eba",
   "metadata": {},
   "source": [
    "Ans5:\n",
    "     A dictionary is a collection of key-value pairs in Python. It is used to store and retrieve data quickly and efficiently. In a dictionary, each        key is associated with a value, and the key-value pair is separated by a colon. Keys in a dictionary must be unique, immutable objects, while          values can be of any data type, including lists, tuples, and even other dictionaries.\n",
    "     Dictionary is unordered collection."
   ]
  },
  {
   "cell_type": "code",
   "execution_count": 9,
   "id": "506e5270-b23d-450e-ab8e-52c21d27072f",
   "metadata": {},
   "outputs": [],
   "source": [
    "x={'keys1':'value1','key2':'value2','key3':'value3'}"
   ]
  },
  {
   "cell_type": "code",
   "execution_count": 10,
   "id": "692f5aff-ccd2-43e2-9bac-a5bd93a5b5be",
   "metadata": {},
   "outputs": [
    {
     "data": {
      "text/plain": [
       "{'keys1': 'value1', 'key2': 'value2', 'key3': 'value3'}"
      ]
     },
     "execution_count": 10,
     "metadata": {},
     "output_type": "execute_result"
    }
   ],
   "source": [
    "x"
   ]
  },
  {
   "cell_type": "code",
   "execution_count": null,
   "id": "3fbf5d31-5df8-4fdd-a9a3-4a44582d4651",
   "metadata": {},
   "outputs": [],
   "source": [
    "ans6:Yes,we can create nested dictionary."
   ]
  },
  {
   "cell_type": "code",
   "execution_count": 11,
   "id": "8cbfff1c-38fd-471a-8a6a-1284f86959a2",
   "metadata": {},
   "outputs": [
    {
     "data": {
      "text/plain": [
       "{'keys': {'name': 'ABC'}}"
      ]
     },
     "execution_count": 11,
     "metadata": {},
     "output_type": "execute_result"
    }
   ],
   "source": [
    "x={'keys':{'name':'ABC'}}\n",
    "x"
   ]
  },
  {
   "cell_type": "markdown",
   "id": "bd4e3f1f-6d1b-460a-b173-305872c3d466",
   "metadata": {},
   "source": [
    "ans7:"
   ]
  },
  {
   "cell_type": "code",
   "execution_count": 13,
   "id": "55228149-e285-4e8c-9eac-9ee74d029e43",
   "metadata": {},
   "outputs": [
    {
     "data": {
      "text/plain": [
       "{'language': 'python',\n",
       " 'course': 'Datascience masters',\n",
       " 'topics': ['python', 'machine learning', 'deep learning']}"
      ]
     },
     "execution_count": 13,
     "metadata": {},
     "output_type": "execute_result"
    }
   ],
   "source": [
    "\n",
    " dict1={'language':'python','course':'Datascience masters'}\n",
    " dict1.setdefault('topics',['python','machine learning','deep learning'])\n",
    " dict1"
   ]
  },
  {
   "cell_type": "markdown",
   "id": "a2c3ca23-231a-4dac-925e-0c53face3ef0",
   "metadata": {},
   "source": [
    "ans8:\n",
    "     dict.keys(): This returns a view object of the keys in the dictionary.\n",
    "     dict.values(): This returns a view object of the values in the dictionary.\n",
    "     dict.items(): This returns a view object of the (key, value) pairs in the dictionary."
   ]
  },
  {
   "cell_type": "code",
   "execution_count": 14,
   "id": "387324e3-941e-48d0-8ffb-418f90dcb448",
   "metadata": {},
   "outputs": [
    {
     "data": {
      "text/plain": [
       "{'Sport': 'Cricket',\n",
       " 'Teams': ['India',\n",
       "  'Australia',\n",
       "  'England',\n",
       "  'South Africa',\n",
       "  'Sri Lanka',\n",
       "  'New Zealand']}"
      ]
     },
     "execution_count": 14,
     "metadata": {},
     "output_type": "execute_result"
    }
   ],
   "source": [
    "dict1 = {'Sport': 'Cricket' , 'Teams': ['India', 'Australia', 'England', 'South Africa', 'Sri Lanka', 'New Zealand']}\n",
    "dict1"
   ]
  },
  {
   "cell_type": "code",
   "execution_count": 15,
   "id": "ecc73cc9-6560-49d9-b835-a9a4d40186a0",
   "metadata": {},
   "outputs": [
    {
     "data": {
      "text/plain": [
       "dict_keys(['Sport', 'Teams'])"
      ]
     },
     "execution_count": 15,
     "metadata": {},
     "output_type": "execute_result"
    }
   ],
   "source": [
    "dict1.keys()"
   ]
  },
  {
   "cell_type": "code",
   "execution_count": 16,
   "id": "6673d2d9-6c82-4220-9ca8-3caebf3684de",
   "metadata": {},
   "outputs": [
    {
     "data": {
      "text/plain": [
       "dict_values(['Cricket', ['India', 'Australia', 'England', 'South Africa', 'Sri Lanka', 'New Zealand']])"
      ]
     },
     "execution_count": 16,
     "metadata": {},
     "output_type": "execute_result"
    }
   ],
   "source": [
    "dict1.values()"
   ]
  },
  {
   "cell_type": "code",
   "execution_count": null,
   "id": "a030ea44-b2b3-457c-9293-98030d6dfc6a",
   "metadata": {},
   "outputs": [],
   "source": [
    "dict"
   ]
  }
 ],
 "metadata": {
  "kernelspec": {
   "display_name": "Python 3 (ipykernel)",
   "language": "python",
   "name": "python3"
  },
  "language_info": {
   "codemirror_mode": {
    "name": "ipython",
    "version": 3
   },
   "file_extension": ".py",
   "mimetype": "text/x-python",
   "name": "python",
   "nbconvert_exporter": "python",
   "pygments_lexer": "ipython3",
   "version": "3.10.8"
  }
 },
 "nbformat": 4,
 "nbformat_minor": 5
}
